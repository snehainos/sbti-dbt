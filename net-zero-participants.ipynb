{
 "cells": [
  {
   "cell_type": "code",
   "execution_count": null,
   "metadata": {},
   "outputs": [],
   "source": [
    "CREATE TABLE Participants (\n",
    "    ParticipantName VARCHAR(255),\n",
    "    Stream INT,\n",
    "    ParticipationTier VARCHAR(255)\n",
    ");\n",
    "\n",
    "INSERT INTO Participants (ParticipantName, Stream, ParticipationTier) VALUES\n",
    "('3M Canada', 3, 'Committed'),\n",
    "('Accenture', 3, 'Committed'),\n",
    "('AECOM Canada Ltd', 3, 'Committed'),\n",
    "('Aecon Group Inc', 3, 'Committed'),\n",
    "('Aéroports de Montréal', 3, 'Committed'),\n",
    "('Arcelormittal Dofasco', 1, 'Committed'),\n",
    "('AtkinsRéalis', 3, 'Committed'),\n",
    "('Aviva Canada', 2, 'Committed'),\n",
    "('BASF Canada', 1, 'Committed'),\n",
    "('BGIS Global Integrated Solutions Canada L.P.', 3, 'Committed');\n"
   ]
  }
 ],
 "metadata": {
  "language_info": {
   "name": "python"
  }
 },
 "nbformat": 4,
 "nbformat_minor": 2
}
