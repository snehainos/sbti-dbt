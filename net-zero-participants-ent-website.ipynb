{
 "cells": [
  {
   "cell_type": "code",
   "execution_count": 1,
   "metadata": {},
   "outputs": [
    {
     "name": "stdout",
     "output_type": "stream",
     "text": [
      "Data successfully scraped and saved to participants_with_urls_ent.csv\n"
     ]
    }
   ],
   "source": [
    "import requests\n",
    "from bs4 import BeautifulSoup\n",
    "import csv\n",
    "\n",
    "# URL of the webpage to scrape\n",
    "url = \"https://www.canada.ca/en/services/environment/weather/climatechange/climate-plan/net-zero-emissions-2050/challenge.html#participants\"\n",
    "\n",
    "# Send a GET request to the webpage\n",
    "response = requests.get(url)\n",
    "response.raise_for_status()\n",
    "\n",
    "# Parse the HTML content of the page\n",
    "soup = BeautifulSoup(response.content, \"html.parser\")\n",
    "\n",
    "# Find the first table with participant data\n",
    "table = soup.find_all(\"table\")[0]\n",
    "\n",
    "# Extract the table headers\n",
    "headers = [header.text.strip() for header in table.find_all(\"th\")]\n",
    "headers.append(\"Website/LinkedIn URL\")\n",
    "\n",
    "# Extract the rows of the table\n",
    "rows = []\n",
    "for row in table.find_all(\"tr\")[1:]:\n",
    "    cells = row.find_all(\"td\")\n",
    "    row_data = [cell.text.strip() for cell in cells]\n",
    "    \n",
    "    # Try to find the URL in the current row\n",
    "    url = None\n",
    "    for cell in cells:\n",
    "        link = cell.find(\"a\", href=True)\n",
    "        if link:\n",
    "            url = link['href']\n",
    "            break\n",
    "    row_data.append(url if url else \"N/A\")\n",
    "    \n",
    "    rows.append(row_data)\n",
    "\n",
    "# Write the data to a CSV file\n",
    "csv_file = \"participants_with_urls_ent.csv\"\n",
    "with open(csv_file, mode=\"w\", newline=\"\", encoding=\"utf-8\") as file:\n",
    "    writer = csv.writer(file)\n",
    "    writer.writerow(headers)\n",
    "    writer.writerows(rows)\n",
    "\n",
    "print(f\"Data successfully scraped and saved to {csv_file}\")"
   ]
  }
 ],
 "metadata": {
  "kernelspec": {
   "display_name": "Python 3",
   "language": "python",
   "name": "python3"
  },
  "language_info": {
   "codemirror_mode": {
    "name": "ipython",
    "version": 3
   },
   "file_extension": ".py",
   "mimetype": "text/x-python",
   "name": "python",
   "nbconvert_exporter": "python",
   "pygments_lexer": "ipython3",
   "version": "3.9.6"
  }
 },
 "nbformat": 4,
 "nbformat_minor": 2
}
